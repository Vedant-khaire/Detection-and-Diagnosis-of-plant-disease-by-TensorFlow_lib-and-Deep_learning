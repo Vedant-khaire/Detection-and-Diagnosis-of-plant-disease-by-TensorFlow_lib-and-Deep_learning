{
 "cells": [
  {
   "cell_type": "code",
   "execution_count": 10,
   "id": "cba81c6b-f034-4192-a75a-889738c701ae",
   "metadata": {},
   "outputs": [
    {
     "name": "stdout",
     "output_type": "stream",
     "text": [
      "Number of rust leaf images in training set: 20\n",
      "Number of rust leaf images in test set: 20\n",
      "Number of rust leaf images in validation set: 20\n",
      "========================================================\n",
      "Number of healthy leaf images in training set: 20\n",
      "Number of healthy leaf images in test set: 20\n",
      "Number of healthy leaf images in validation set: 20\n",
      "========================================================\n",
      "Number of powdery leaf images in training set: 20\n",
      "Number of powdery leaf images in test set: 20\n",
      "Number of powdery leaf images in validation set: 20\n",
      "========================================================\n",
      "Number of Rose_Gall leaf images in training set: 11\n",
      "Number of Rose_Gall leaf images in test set: 11\n",
      "Number of Rose_Gall leaf images in validation set: 11\n",
      "========================================================\n",
      "Number of Peach_leaf_curl leaf images in training set: 11\n",
      "Number of Peach_leaf_curl leaf images in test set: 11\n",
      "Number of Peach_leaf_curl leaf images in validation set: 11\n",
      "========================================================\n",
      "Number of Fungal_Diseases leaf images in training set: 11\n",
      "Number of Fungal_Diseases leaf images in test set: 11\n",
      "Number of Fungal_Diseases leaf images in validation set: 11\n",
      "========================================================\n",
      "Number of Wilting leaf images in training set: 10\n",
      "Number of Wilting leaf images in test set: 10\n",
      "Number of Wilting leaf images in validation set: 10\n",
      "========================================================\n",
      "Number of Crown_Gall_disease leaf images in training set: 12\n",
      "Number of Crown_Gall_disease leaf images in test set: 12\n",
      "Number of Crown_Gall_disease leaf images in validation set: 12\n",
      "========================================================\n",
      "Number of Environmental_stress leaf images in training set: 11\n",
      "Number of Environmental_stress leaf images in test set: 11\n",
      "Number of Environmental_stress leaf images in validation set: 11\n",
      "========================================================\n",
      "Number of Bacterial_Infections leaf images in training set: 11\n",
      "Number of Bacterial_Infections leaf images in test set: 11\n",
      "Number of Bacterial_Infections leaf images in validation set: 11\n",
      "========================================================\n"
     ]
    }
   ],
   "source": [
    "import os\n",
    "\n",
    "def total_files(folder_path):\n",
    "    num_files = len([f for f in os.listdir(folder_path) if os.path.isfile(os.path.join(folder_path, f))])\n",
    "    return num_files\n",
    "\n",
    "# Define your class names\n",
    "class_names = [\"rust\", \"healthy\", \"powdery\", \"Rose_Gall\", \"Peach_leaf_curl\", \"Fungal_Diseases\",\"Wilting\" ,\"Crown_Gall_disease\" , \"Environmental_stress\", \"Bacterial_Infections\"]\n",
    "\n",
    "# Loop through each class and print the number of images in each set\n",
    "for class_name in class_names:\n",
    "    train_files_path = f\"Database/Train/{class_name}\"\n",
    "    test_files_path = f\"Database/Test/{class_name}\"\n",
    "    valid_files_path = f\"Database/Validation/{class_name}\"\n",
    "\n",
    "    print(f\"Number of {class_name} leaf images in training set:\", total_files(train_files_path))\n",
    "    print(f\"Number of {class_name} leaf images in test set:\", total_files(test_files_path))\n",
    "    print(f\"Number of {class_name} leaf images in validation set:\", total_files(valid_files_path))\n",
    "    print(\"========================================================\")\n"
   ]
  },
  {
   "cell_type": "code",
   "execution_count": null,
   "id": "f606133a-e0c0-4076-8145-d356aae46054",
   "metadata": {},
   "outputs": [],
   "source": []
  }
 ],
 "metadata": {
  "kernelspec": {
   "display_name": "Python 3 (ipykernel)",
   "language": "python",
   "name": "python3"
  },
  "language_info": {
   "codemirror_mode": {
    "name": "ipython",
    "version": 3
   },
   "file_extension": ".py",
   "mimetype": "text/x-python",
   "name": "python",
   "nbconvert_exporter": "python",
   "pygments_lexer": "ipython3",
   "version": "3.10.11"
  }
 },
 "nbformat": 4,
 "nbformat_minor": 5
}
